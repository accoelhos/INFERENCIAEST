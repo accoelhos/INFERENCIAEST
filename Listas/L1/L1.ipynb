{
 "cells": [
  {
   "cell_type": "markdown",
   "id": "db5c2159",
   "metadata": {},
   "source": [
    "# Seção 5.5"
   ]
  },
  {
   "cell_type": "code",
   "execution_count": 1,
   "id": "c793dbdb",
   "metadata": {},
   "outputs": [
    {
     "name": "stdout",
     "output_type": "stream",
     "text": [
      "0.8508300496690187\n",
      "0.06680720126885806\n",
      "A área entre z = 1 e z = 2 é aproximadamente 0.1359\n"
     ]
    }
   ],
   "source": [
    "import scipy\n",
    "from scipy.stats import norm\n",
    "\n",
    "#5.5\n",
    "#a)\n",
    "print(norm.cdf(1.04))\n",
    "#b)\n",
    "print(norm.cdf(-1.5))\n",
    "\n",
    "#c)\n",
    "z1 = 1\n",
    "z2 = 2\n",
    "\n",
    "area = norm.cdf(z2) - norm.cdf(z1)\n",
    "\n",
    "print(f\"A área entre z = {z1} e z = {z2} é aproximadamente {area:.4f}\")\n",
    "\n"
   ]
  },
  {
   "cell_type": "markdown",
   "id": "068434cb",
   "metadata": {},
   "source": [
    "# Seção 5.10"
   ]
  },
  {
   "cell_type": "code",
   "execution_count": 6,
   "id": "696451b8",
   "metadata": {},
   "outputs": [
    {
     "name": "stdout",
     "output_type": "stream",
     "text": [
      "a) Z = 0.5244005127080407\n",
      "b) Z = 2.3263478740408408\n",
      "c) Z = 1.6448536269514722\n"
     ]
    }
   ],
   "source": [
    "#a)\n",
    "area = 0.7\n",
    "z = norm.ppf(area)\n",
    "print(f\"a) Z = {z}\")\n",
    "\n",
    "#b)\n",
    "area2 = 0.99\n",
    "z2 = norm.ppf(area2)\n",
    "print(f\"b) Z = {z2}\")\n",
    "\n",
    "#c)\n",
    "area3 = 0.95\n",
    "z3 = norm.ppf(area3)\n",
    "print(f\"c) Z = {z3}\")"
   ]
  },
  {
   "cell_type": "markdown",
   "id": "01b88ed4",
   "metadata": {},
   "source": [
    "# Seção 5.15"
   ]
  },
  {
   "cell_type": "code",
   "execution_count": 15,
   "id": "873e8899",
   "metadata": {},
   "outputs": [
    {
     "name": "stdout",
     "output_type": "stream",
     "text": [
      "a) 0.0227501319481792\n",
      "b) 0.006209665325776132\n",
      "c) 0.6997171101802624\n"
     ]
    }
   ],
   "source": [
    "# a)\n",
    "mu = 120\n",
    "sigma = 40\n",
    "x = 200\n",
    "area = norm.sf(x, loc=mu, scale = 40)\n",
    "print(f\"a) {area}\")\n",
    "# b)\n",
    "mu2 = 50\n",
    "sigma2 = 0.2\n",
    "x2 = 49.5\n",
    "area2 = norm.cdf(x2, loc=mu2, scale = sigma2)\n",
    "print(f\"b) {area2}\")\n",
    "\n",
    "#c)\n",
    "mu3 = 1\n",
    "sigma3 = 0.3\n",
    "xmenor = 0.8\n",
    "xmaior = 1.5\n",
    "areamaior = norm.cdf(xmaior, loc=mu3, scale = sigma3)\n",
    "areamenor = norm.cdf(xmenor, loc=mu3, scale = sigma3)\n",
    "areaofc = areamaior - areamenor\n",
    "print(f\"c) {areaofc}\")"
   ]
  },
  {
   "cell_type": "markdown",
   "id": "8b38f625",
   "metadata": {},
   "source": [
    "# Seção 5.20"
   ]
  },
  {
   "cell_type": "code",
   "execution_count": 18,
   "id": "096b4784",
   "metadata": {},
   "outputs": [
    {
     "name": "stdout",
     "output_type": "stream",
     "text": [
      "a) = 2.4368968689107993\n"
     ]
    }
   ],
   "source": [
    "# a)\n",
    "mu = 5\n",
    "sigma = 2\n",
    "a = 0.10\n",
    "z = norm.ppf(a, loc = mu, scale = sigma)\n",
    "print(f\"a) = {z}\")"
   ]
  },
  {
   "cell_type": "code",
   "execution_count": 24,
   "id": "54baffd2",
   "metadata": {},
   "outputs": [
    {
     "name": "stdout",
     "output_type": "stream",
     "text": [
      "b) = 541.1213406737868\n"
     ]
    }
   ],
   "source": [
    "# b)\n",
    "mu = 500\n",
    "sigma = 25\n",
    "a = 0.95\n",
    "z = norm.ppf(a, loc = mu, scale = sigma)\n",
    "print(f\"b) = {z}\")"
   ]
  },
  {
   "cell_type": "markdown",
   "id": "91b05b40",
   "metadata": {},
   "source": [
    "# Seção 5.25"
   ]
  },
  {
   "cell_type": "code",
   "execution_count": 25,
   "id": "8e799ecc",
   "metadata": {},
   "outputs": [
    {
     "name": "stdout",
     "output_type": "stream",
     "text": [
      "397.47587475643195\n"
     ]
    }
   ],
   "source": [
    "# 5.25\n",
    "a = 0.1\n",
    "mu = 500\n",
    "sigma = 80\n",
    "z = norm.ppf(a, loc = mu, scale = sigma)\n",
    "print(f\"{z}\")\n"
   ]
  },
  {
   "cell_type": "markdown",
   "id": "8fdcadb8",
   "metadata": {},
   "source": [
    "# Seção 5.35"
   ]
  },
  {
   "cell_type": "code",
   "execution_count": 27,
   "id": "2495da73",
   "metadata": {},
   "outputs": [
    {
     "name": "stdout",
     "output_type": "stream",
     "text": [
      "a) 0.4950149249061542\n",
      "b) 66.1553453033662\n"
     ]
    }
   ],
   "source": [
    "# a)\n",
    "mu = 70\n",
    "sigma = 3\n",
    "z1 = 68\n",
    "z2 = 72\n",
    "\n",
    "a1 = norm.cdf(z1, mu, sigma)\n",
    "a2 =  norm.cdf(z2, mu, sigma)\n",
    "\n",
    "p = a2-a1\n",
    "print(f\"a) {p}\")\n",
    "\n",
    "#b)\n",
    "z = norm.ppf(0.1, mu, sigma)\n",
    "print(f\"b) {z}\")\n"
   ]
  }
 ],
 "metadata": {
  "kernelspec": {
   "display_name": "Python 3",
   "language": "python",
   "name": "python3"
  },
  "language_info": {
   "codemirror_mode": {
    "name": "ipython",
    "version": 3
   },
   "file_extension": ".py",
   "mimetype": "text/x-python",
   "name": "python",
   "nbconvert_exporter": "python",
   "pygments_lexer": "ipython3",
   "version": "3.12.6"
  }
 },
 "nbformat": 4,
 "nbformat_minor": 5
}
