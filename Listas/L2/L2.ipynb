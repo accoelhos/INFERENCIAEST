{
 "cells": [
  {
   "cell_type": "markdown",
   "id": "270bd221",
   "metadata": {},
   "source": [
    "# Seção 6.6"
   ]
  },
  {
   "cell_type": "code",
   "execution_count": 12,
   "id": "0173b8a7",
   "metadata": {},
   "outputs": [
    {
     "name": "stdout",
     "output_type": "stream",
     "text": [
      "questão 6.136\n",
      "t = -3.636877781834302\n",
      "p-valor = 0.0005308618760833904\n",
      "           \n",
      "questão 6.140\n",
      "t = -4.990654869266257\n",
      "p-valor = 1.936019599611271e-06\n",
      "           \n",
      "questão 6.144\n",
      "t = -3.667872298381152\n",
      "p-valor = 0.0018516757755687894\n"
     ]
    }
   ],
   "source": [
    "from scipy.stats import t\n",
    "import math\n",
    "\n",
    "def calcula_t(x, u, s, n):\n",
    "    return (x - u) / (s / math.sqrt(n))\n",
    "\n",
    "# 6.136\n",
    "x = 91.7\n",
    "u=100\n",
    "s = 12.5\n",
    "n = 30\n",
    "gl = n-1\n",
    "t_valor = calcula_t(x, u, s, n)\n",
    "p_valor = t.cdf(t_valor, gl) \n",
    "print(\"questão 6.136\")\n",
    "print(\"t =\", t_valor)\n",
    "print(\"p-valor =\", p_valor)\n",
    "\n",
    "#6.140\n",
    "x = 432\n",
    "u=500\n",
    "s = 118\n",
    "n = 75\n",
    "gl = n-1\n",
    "t_valor = calcula_t(x, u, s, n)\n",
    "p_valor = t.cdf(t_valor, gl)  \n",
    "print(\"           \")\n",
    "print(\"questão 6.140\")\n",
    "print(\"t =\", t_valor)\n",
    "print(\"p-valor =\", p_valor)\n",
    "\n",
    "#6.144\n",
    "x = 6.2\n",
    "u=8\n",
    "s = 1.7\n",
    "n = 12\n",
    "gl = n-1\n",
    "t_valor = calcula_t(x, u, s, n)\n",
    "p_valor = t.cdf(t_valor, gl)  \n",
    "print(\"           \")\n",
    "print(\"questão 6.144\")\n",
    "print(\"t =\", t_valor)\n",
    "print(\"p-valor =\", p_valor)\n"
   ]
  },
  {
   "cell_type": "markdown",
   "id": "e86a50bc",
   "metadata": {},
   "source": [
    "# Seção 6.12"
   ]
  },
  {
   "cell_type": "code",
   "execution_count": 21,
   "id": "8c3a9d0d",
   "metadata": {},
   "outputs": [
    {
     "name": "stdout",
     "output_type": "stream",
     "text": [
      "questão 6.250\n",
      "t = 2.69912\n",
      "gl ≈ 68.00000\n",
      "p-valor = 0.00438\n",
      " \n",
      "questão 6.254\n",
      "t = -0.58425\n",
      "gl ≈ 2293.00000\n",
      "p-valor = 0.55911\n",
      " \n",
      "questão 6.258\n",
      "t = 4.92826\n",
      "gl ≈ 122.00000\n",
      "p-valor = 0.00000\n"
     ]
    }
   ],
   "source": [
    "from scipy.stats import t\n",
    "import math\n",
    "\n",
    "def teste_duas_medias_t(x1, s1, n1, x2, s2, n2, alternativa='diferente'):\n",
    "    \"\"\"\n",
    "    Realiza um teste t para duas amostras independentes (Welch).\n",
    "    \n",
    "    Parâmetros:\n",
    "    - x1, s1, n1: média, desvio padrão e tamanho da amostra 1\n",
    "    - x2, s2, n2: média, desvio padrão e tamanho da amostra 2\n",
    "    - alternativa: 'maior', 'menor' ou 'diferente' (bilateral)\n",
    "    \n",
    "    Retorna:\n",
    "    - t calculado\n",
    "    - graus de liberdade\n",
    "    - p-valor\n",
    "    \"\"\"\n",
    "    \n",
    "    # Estatística t\n",
    "    num = x1 - x2\n",
    "    denom = math.sqrt((s1**2)/n1 + (s2**2)/n2)\n",
    "    t_valor = num / denom\n",
    "\n",
    "    # Graus de liberdade (fórmula de Welch)\n",
    "    gl = n1+n2-2\n",
    "\n",
    "    # Valor-p dependendo da alternativa\n",
    "    if alternativa == 'maior':\n",
    "        p_valor = 1 - t.cdf(t_valor, gl)\n",
    "    elif alternativa == 'menor':\n",
    "        p_valor = t.cdf(t_valor, gl)\n",
    "    elif alternativa == 'diferente':\n",
    "        p_valor = 2 * (1 - t.cdf(abs(t_valor), gl))\n",
    "    else:\n",
    "        raise ValueError(\"alternativa deve ser: 'maior', 'menor' ou 'diferente'.\")\n",
    "\n",
    "    return t_valor, gl, p_valor\n",
    "\n",
    "# Dados da questão 6.250\n",
    "x1 = 56\n",
    "s1 = 8.2\n",
    "n1 = 30\n",
    "\n",
    "x2 = 51\n",
    "s2 = 6.9\n",
    "n2 = 40\n",
    "\n",
    "alternativa = 'maior'  # Hₐ: μ₁ > μ₂\n",
    "\n",
    "# Chamada da função\n",
    "t_valor, gl, p = teste_duas_medias_t(x1, s1, n1, x2, s2, n2, alternativa)\n",
    "\n",
    "# Impressão dos resultados\n",
    "print(\"questão 6.250\")\n",
    "print(f\"t = {t_valor:.5f}\")\n",
    "print(f\"gl ≈ {gl:.5f}\")\n",
    "print(f\"p-valor = {p:.5f}\")\n",
    "\n",
    "# Dados da questão 6.254\n",
    "x1 = 13.1\n",
    "s1 = 7.9\n",
    "n1 = 2027\n",
    "\n",
    "x2 = 13.4\n",
    "s2 =7.9\n",
    "n2 = 268\n",
    "\n",
    "alternativa = 'diferente'  # Hₐ: μ₁ != μ₂\n",
    "\n",
    "# Chamada da função\n",
    "t_valor, gl, p = teste_duas_medias_t(x1, s1, n1, x2, s2, n2, alternativa)\n",
    "\n",
    "# Impressão dos resultados\n",
    "print(\" \")\n",
    "print(\"questão 6.254\")\n",
    "print(f\"t = {t_valor:.5f}\")\n",
    "print(f\"gl ≈ {gl:.5f}\")\n",
    "print(f\"p-valor = {p:.5f}\")\n",
    "\n",
    "# Dados da questão 6.258\n",
    "x1 = 564\n",
    "s1 = 122\n",
    "n1 = 99\n",
    "\n",
    "x2 = 425\n",
    "s2 =127\n",
    "n2 = 25\n",
    "\n",
    "alternativa = 'diferente'  # Hₐ: μ₁ != μ₂\n",
    "\n",
    "# Chamada da função\n",
    "t_valor, gl, p = teste_duas_medias_t(x1, s1, n1, x2, s2, n2, alternativa)\n",
    "\n",
    "# Impressão dos resultados\n",
    "print(\" \")\n",
    "print(\"questão 6.258\")\n",
    "print(f\"t = {t_valor:.5f}\")\n",
    "print(f\"gl ≈ {gl:.5f}\")\n",
    "print(f\"p-valor = {p:.5f}\")\n",
    "\n"
   ]
  },
  {
   "cell_type": "markdown",
   "id": "922d379a",
   "metadata": {},
   "source": [
    "# Seção 6.13"
   ]
  },
  {
   "cell_type": "code",
   "execution_count": 25,
   "id": "374d9f2c",
   "metadata": {},
   "outputs": [
    {
     "name": "stdout",
     "output_type": "stream",
     "text": [
      "Questão 6.270 - Intervalo de Confiança para a média das diferenças\n",
      "Média das diferenças: 3.7\n",
      "Erro padrão: 0.3834\n",
      "t*: 2.045\n",
      "Margem de erro: 0.7842\n",
      "Intervalo de confiança de 95%: (2.92, 4.48)\n"
     ]
    }
   ],
   "source": [
    "from scipy.stats import t\n",
    "import math\n",
    "\n",
    "def intervalo_confianca_diferenca(x_d, s_d, n_d, confianca=0.95):\n",
    "    df = n_d - 1\n",
    "    alpha = 1 - confianca\n",
    "    t_star = t.ppf(1 - alpha / 2, df)\n",
    "    SE = s_d / math.sqrt(n_d)\n",
    "    ME = t_star * SE\n",
    "    inferior = x_d - ME\n",
    "    superior = x_d + ME\n",
    "    return t_star, SE, ME, inferior, superior\n",
    "\n",
    "# 🔢 Valores da questão 6.270\n",
    "media_dif = 3.7\n",
    "desvio_dif = 2.1\n",
    "n = 30\n",
    "confianca = 0.95\n",
    "\n",
    "# 📊 Executa o cálculo\n",
    "t_star, SE, ME, inf, sup = intervalo_confianca_diferenca(media_dif, desvio_dif, n, confianca)\n",
    "\n",
    "# 📋 Impressão formatada\n",
    "print(\"Questão 6.270 - Intervalo de Confiança para a média das diferenças\")\n",
    "print(f\"Média das diferenças: {media_dif}\")\n",
    "print(f\"Erro padrão: {SE:.4f}\")\n",
    "print(f\"t*: {t_star:.3f}\")\n",
    "print(f\"Margem de erro: {ME:.4f}\")\n",
    "print(f\"Intervalo de confiança de {int(confianca*100)}%: ({inf:.2f}, {sup:.2f})\")\n"
   ]
  },
  {
   "cell_type": "code",
   "execution_count": 29,
   "id": "4ea191b0",
   "metadata": {},
   "outputs": [
    {
     "name": "stdout",
     "output_type": "stream",
     "text": [
      "Questão 6.274 - Teste t para dados pareados (bicaudal)\n",
      "t calculado: 6.4344\n",
      "Graus de liberdade: 24\n",
      "p-valor: 0.0000\n",
      "🔴 Rejeita H0: Há evidências de diferença entre as médias.\n"
     ]
    }
   ],
   "source": [
    "from scipy.stats import t\n",
    "import math\n",
    "\n",
    "def teste_hipotese_diferencas(x_d, s_d, n_d, confianca=0.95):\n",
    "    df = n_d - 1\n",
    "    t_calc = x_d / (s_d / math.sqrt(n_d))  # μ₀ = 0\n",
    "    p_valor = 2 * (t.cdf(-t_calc, df))  # teste bicaudal\n",
    "    return t_calc, df, p_valor\n",
    "\n",
    "# Valores da questão 6.274\n",
    "media_dif = 15.7\n",
    "desvio_dif = 12.2\n",
    "n = 25\n",
    "\n",
    "t_calc, df, p_valor = teste_hipotese_diferencas(media_dif, desvio_dif, n)\n",
    "\n",
    "# Impressão formatada\n",
    "print(\"Questão 6.274 - Teste t para dados pareados (bicaudal)\")\n",
    "print(f\"t calculado: {t_calc:.4f}\")\n",
    "print(f\"Graus de liberdade: {df}\")\n",
    "print(f\"p-valor: {p_valor:.4f}\")\n",
    "\n",
    "# Decisão\n",
    "alpha = 0.05\n",
    "if p_valor < alpha:\n",
    "    print(\"🔴 Rejeita H0: Há evidências de diferença entre as médias.\")\n",
    "else:\n",
    "    print(\"🟢 Não rejeita H0: Não há evidências suficientes de diferença.\")\n"
   ]
  },
  {
   "cell_type": "code",
   "execution_count": 38,
   "id": "a0fb40dd",
   "metadata": {},
   "outputs": [
    {
     "name": "stdout",
     "output_type": "stream",
     "text": [
      "Questão 6.276\n",
      "media das diferencas = -2.125\n",
      "desvio padrao = 3.980\n",
      "se = 1.407\n",
      "n = 8.000\n",
      "t calculado = -1.510\n",
      "p-valor = 0.0874\n",
      "🟢 Não rejeita H0: Não há evidências suficientes de diferença.\n"
     ]
    }
   ],
   "source": [
    "import numpy as np\n",
    "from scipy.stats import t\n",
    "\n",
    "# Dados\n",
    "t1 = np.array([16, 12, 18, 21, 15, 11, 14, 22])\n",
    "t2 = np.array([18, 20, 25, 21, 19, 8, 15, 20])\n",
    "d = t1 - t2\n",
    "alpha = 0.05\n",
    "# Estatísticas\n",
    "n = len(d)\n",
    "mean_d = np.mean(d)\n",
    "sd_d = np.std(d, ddof=1)\n",
    "se = sd_d / np.sqrt(n)\n",
    "\n",
    "# Estatística t\n",
    "t_stat = (mean_d - 0) / se\n",
    "\n",
    "# p-valor (teste unilateral, Ha: μ1 < μ2)\n",
    "print(\"Questão 6.276\")\n",
    "print(f\"media das diferencas = {mean_d:.3f}\")\n",
    "print(f\"desvio padrao = {sd_d:.3f}\")\n",
    "print(f\"se = {se:.3f}\")\n",
    "print(f\"n = {n:.3f}\")\n",
    "\n",
    "print(f\"t calculado = {t_stat:.3f}\")\n",
    "\n",
    "\n",
    "p_value = t.cdf(t_stat, df=n-1)\n",
    "print(f\"p-valor = {p_value:.4f}\")\n",
    "if p_value < alpha:\n",
    "    print(\"🔴 Rejeita H0: Há evidências de diferença entre as médias.\")\n",
    "else:\n",
    "    print(\"🟢 Não rejeita H0: Não há evidências suficientes de diferença.\")\n"
   ]
  },
  {
   "cell_type": "markdown",
   "id": "19f4cbc8",
   "metadata": {},
   "source": [
    "# Seção 7.1"
   ]
  },
  {
   "cell_type": "code",
   "execution_count": 2,
   "id": "51bf3e70",
   "metadata": {},
   "outputs": [
    {
     "name": "stdout",
     "output_type": "stream",
     "text": [
      "Q. 7.15\n",
      "Qui-Quadrado Calculado: 190.1\n",
      "Graus de Liberdade: 4\n",
      "P-Valor: 0.0\n",
      "Valor Crítico (Chi-Quadrado Crítico): 9.49\n",
      "Conclusão: Rejeitar H0\n",
      "             \n",
      "Q. 7.25 - Teste da Lei de Benford\n",
      "Qui-Quadrado Calculado: 8.15\n",
      "Graus de Liberdade: 8\n",
      "P-Valor: 0.419\n",
      "Valor Crítico (Chi-Quadrado Crítico): 15.51\n",
      "Conclusão: Aceitar H0\n"
     ]
    }
   ],
   "source": [
    "from scipy.stats import chi2\n",
    "import math\n",
    "\n",
    "def qui_quadrado_test(observados, esperado, confianca=0.95):\n",
    "    # Calcular o valor do qui-quadrado\n",
    "    chi_quadrado = sum([(o - e) ** 2 / e for o, e in zip(observados, esperado)])\n",
    "    \n",
    "    # Graus de liberdade (número de categorias - 1)\n",
    "    df = len(observados) - 1\n",
    "    \n",
    "    # p-valor associado ao qui-quadrado calculado\n",
    "    p_valor = 1 - chi2.cdf(chi_quadrado, df)\n",
    "    \n",
    "    # Valor crítico para o intervalo de confiança (não utilizado diretamente, mas é bom saber)\n",
    "    alpha = 1 - confianca\n",
    "    chi_quadrado_critico = chi2.ppf(1 - alpha, df)\n",
    "    \n",
    "    # Retornar os resultados\n",
    "    return {\n",
    "        \"qui_quadrado\": round(chi_quadrado, 2),\n",
    "        \"graus_de_liberdade\": df,\n",
    "        \"p_valor\": round(p_valor, 4),\n",
    "        \"chi_quadrado_critico\": round(chi_quadrado_critico, 2),\n",
    "        \"conclusao\": \"Rejeitar H0\" if p_valor < alpha else \"Aceitar H0\"\n",
    "    }\n",
    "observados = [156, 312, 253, 195, 59]  # Dados observados\n",
    "esperado = [195, 195, 195, 195, 195]  # Frequências esperadas (distribuição uniforme)\n",
    "\n",
    "resultado = qui_quadrado_test(observados, esperado)\n",
    "\n",
    "\n",
    "print(\"Q. 7.15\")\n",
    "print(f\"Qui-Quadrado Calculado: {resultado['qui_quadrado']}\")\n",
    "print(f\"Graus de Liberdade: {resultado['graus_de_liberdade']}\")\n",
    "print(f\"P-Valor: {resultado['p_valor']}\")\n",
    "print(f\"Valor Crítico (Chi-Quadrado Crítico): {resultado['chi_quadrado_critico']}\")\n",
    "print(f\"Conclusão: {resultado['conclusao']}\")\n",
    "\n",
    "#7.25\n",
    "# Proporções de Benford\n",
    "proporcao_benford = [0.301, 0.176, 0.125, 0.097, 0.079, 0.067, 0.058, 0.051, 0.046]\n",
    "\n",
    "# Observados\n",
    "observados = [345, 197, 170, 126, 101, 72, 69, 51, 57]\n",
    "\n",
    "# Esperados com base nas proporções de Benford\n",
    "total = 1188\n",
    "esperado = [round(p * total, 2) for p in proporcao_benford]  \n",
    "\n",
    "# Usando a função já criada\n",
    "resultado = qui_quadrado_test(observados, esperado)\n",
    "\n",
    "# Exibindo os resultados\n",
    "print(\"             \")\n",
    "print(\"Q. 7.25 - Teste da Lei de Benford\")\n",
    "print(f\"Qui-Quadrado Calculado: {resultado['qui_quadrado']}\")\n",
    "print(f\"Graus de Liberdade: {resultado['graus_de_liberdade']}\")\n",
    "print(f\"P-Valor: {resultado['p_valor']}\")\n",
    "print(f\"Valor Crítico (Chi-Quadrado Crítico): {resultado['chi_quadrado_critico']}\")\n",
    "print(f\"Conclusão: {resultado['conclusao']}\")"
   ]
  },
  {
   "cell_type": "code",
   "execution_count": null,
   "id": "e4f83d87",
   "metadata": {},
   "outputs": [
    {
     "name": "stdout",
     "output_type": "stream",
     "text": [
      "0.0007034913000472098\n"
     ]
    }
   ],
   "source": [
    "pvalor = 1-chi2.cdf(11.48, 1)\n",
    "print(pvalor)"
   ]
  },
  {
   "cell_type": "code",
   "execution_count": 6,
   "id": "e589cb35",
   "metadata": {},
   "outputs": [
    {
     "name": "stdout",
     "output_type": "stream",
     "text": [
      "2.1788128296634177\n"
     ]
    }
   ],
   "source": [
    "from scipy.stats import t\n",
    "conf = 0.95\n",
    "alpha = 1-conf\n",
    "t_cri = t.ppf(1-alpha/2, 12)\n",
    "print(t_cri)"
   ]
  },
  {
   "cell_type": "code",
   "execution_count": 8,
   "id": "3fee3b98",
   "metadata": {},
   "outputs": [
    {
     "name": "stdout",
     "output_type": "stream",
     "text": [
      "0.02077826387223801\n"
     ]
    }
   ],
   "source": [
    "from scipy.stats import t\n",
    "p = 2 * t.cdf(-2.5, 21)\n",
    "print(p)"
   ]
  },
  {
   "cell_type": "code",
   "execution_count": 10,
   "id": "e0a227c0",
   "metadata": {},
   "outputs": [
    {
     "name": "stdout",
     "output_type": "stream",
     "text": [
      "2.0280940009804502\n"
     ]
    }
   ],
   "source": [
    "from scipy.stats import t\n",
    "alpha = 0.05\n",
    "t_critico = t.ppf(1 - alpha/2, 36)\n",
    "print(t_critico)"
   ]
  },
  {
   "cell_type": "code",
   "execution_count": 11,
   "id": "0159cc30",
   "metadata": {},
   "outputs": [
    {
     "name": "stdout",
     "output_type": "stream",
     "text": [
      "SE = 6.63\n"
     ]
    }
   ],
   "source": [
    "import numpy as np\n",
    "\n",
    "valores = [-4, -2, 0, 2, 4, 6, 8, 10, 12, 14, 16]\n",
    "se = np.std(valores, ddof=1)  # sample standard deviation\n",
    "print(\"SE =\", round(se, 2))"
   ]
  },
  {
   "cell_type": "code",
   "execution_count": 12,
   "id": "d6e9fa3d",
   "metadata": {},
   "outputs": [
    {
     "name": "stdout",
     "output_type": "stream",
     "text": [
      "2.2281388519649385\n"
     ]
    }
   ],
   "source": [
    "from scipy.stats import t\n",
    "\n",
    "# Graus de liberdade\n",
    "df = 10\n",
    "\n",
    "# Nível de confiança: 95% → 2.5% em cada cauda\n",
    "t_star = t.ppf(1 - 0.025, df)\n",
    "print(t_star)\n"
   ]
  }
 ],
 "metadata": {
  "kernelspec": {
   "display_name": "Python 3",
   "language": "python",
   "name": "python3"
  },
  "language_info": {
   "codemirror_mode": {
    "name": "ipython",
    "version": 3
   },
   "file_extension": ".py",
   "mimetype": "text/x-python",
   "name": "python",
   "nbconvert_exporter": "python",
   "pygments_lexer": "ipython3",
   "version": "3.12.6"
  }
 },
 "nbformat": 4,
 "nbformat_minor": 5
}
