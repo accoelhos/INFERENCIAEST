{
 "cells": [
  {
   "cell_type": "markdown",
   "id": "44beee20",
   "metadata": {},
   "source": [
    "# Inferência Estatística (GCC1625) - Trabalho 4\n",
    "- Nome completo: ANA CAROLINA SÁ COELHO DA SILVA\n",
    "- Link para o vídeo:"
   ]
  },
  {
   "cell_type": "markdown",
   "id": "4e5c559a",
   "metadata": {},
   "source": [
    "# (1) GLMs- Regressão Logística (2,5 pts)\n",
    "\n",
    "A regressão logística é uma ferramenta fundamental na modelagem de variáveis categóricas binárias. Neste item avaliativo, você aplicará esse modelo para identificar fatores associados à sobrevivência de passageiros no naufrágio do Titanic.\n",
    "\n",
    "### Dados\n",
    "\n",
    "Utilize o seguinte conjunto de dados:\n",
    "- Dataset: Titanic Dataset\n",
    "- Descrição: Informações sobre passageiros do Titanic, incluindo idade, sexo, classe, número de familiares a bordo, entre outros. A variável res\n",
    "posta ‘Survived‘ indica se o passageiro sobreviveu (1) ou não (0)."
   ]
  },
  {
   "cell_type": "code",
   "execution_count": 4,
   "id": "e09447de",
   "metadata": {},
   "outputs": [],
   "source": [
    "# codigo para trazer os dados\n",
    "import pandas as pd\n",
    "import seaborn as sns\n",
    "import statsmodels.api as sm\n",
    "import numpy as np\n",
    "\n",
    "#dataset do seaborn\n",
    "df = sns.load_dataset(\"titanic\")\n",
    "\n",
    "#colunas relevantes\n",
    "df = df[['survived', 'sex', 'pclass', 'age', 'sibsp']]\n",
    "\n",
    "#limpeza\n",
    "df = df.dropna()\n",
    "\n",
    "#categorização\n",
    "df['sex'] = df['sex'].map({'male': 0, 'female': 1})\n"
   ]
  },
  {
   "cell_type": "markdown",
   "id": "5f711e28",
   "metadata": {},
   "source": [
    "**Explicação:**"
   ]
  },
  {
   "cell_type": "markdown",
   "id": "3cc80175",
   "metadata": {},
   "source": [
    "### Tarefas\n",
    "1. Ajustar um modelo de regressão logística para prever Survived, utilizando pelo menos três variáveis explicativas: Sex, Pclass, Age, SibSp, ou outras de sua escolha."
   ]
  },
  {
   "cell_type": "code",
   "execution_count": 2,
   "id": "4fa26e68",
   "metadata": {},
   "outputs": [
    {
     "name": "stdout",
     "output_type": "stream",
     "text": [
      "Optimization terminated successfully.\n",
      "         Current function value: 0.445882\n",
      "         Iterations 6\n",
      "                           Logit Regression Results                           \n",
      "==============================================================================\n",
      "Dep. Variable:               survived   No. Observations:                  714\n",
      "Model:                          Logit   Df Residuals:                      709\n",
      "Method:                           MLE   Df Model:                            4\n",
      "Date:                Mon, 30 Jun 2025   Pseudo R-squ.:                  0.3399\n",
      "Time:                        23:40:24   Log-Likelihood:                -318.36\n",
      "converged:                       True   LL-Null:                       -482.26\n",
      "Covariance Type:            nonrobust   LLR p-value:                 1.089e-69\n",
      "==============================================================================\n",
      "                 coef    std err          z      P>|z|      [0.025      0.975]\n",
      "------------------------------------------------------------------------------\n",
      "const          2.9774      0.486      6.130      0.000       2.025       3.929\n",
      "sex            2.6235      0.215     12.229      0.000       2.203       3.044\n",
      "pclass        -1.3174      0.141     -9.350      0.000      -1.594      -1.041\n",
      "age           -0.0444      0.008     -5.442      0.000      -0.060      -0.028\n",
      "sibsp         -0.3761      0.121     -3.106      0.002      -0.613      -0.139\n",
      "==============================================================================\n"
     ]
    }
   ],
   "source": [
    "# 1\n",
    "# Variáveis independentes (com constante)\n",
    "X = df[['sex', 'pclass', 'age', 'sibsp']]\n",
    "X = sm.add_constant(X)\n",
    "\n",
    "# Variável dependente\n",
    "y = df['survived']\n",
    "\n",
    "# Ajuste do modelo\n",
    "modelo = sm.Logit(y, X).fit()\n",
    "print(modelo.summary())\n"
   ]
  },
  {
   "cell_type": "markdown",
   "id": "b0f0dc4b",
   "metadata": {},
   "source": [
    "**Explicação:**"
   ]
  },
  {
   "cell_type": "markdown",
   "id": "55e1131a",
   "metadata": {},
   "source": [
    "2. Interpretar os coeficientes estimados, com especial atenção para o significado de sinais positivos e negativos em termos da chance de sobrevivência.\n"
   ]
  },
  {
   "cell_type": "code",
   "execution_count": 5,
   "id": "603fb4f2",
   "metadata": {},
   "outputs": [
    {
     "name": "stdout",
     "output_type": "stream",
     "text": [
      "Odds Ratios:\n",
      "const     19.64\n",
      "sex       13.78\n",
      "pclass     0.27\n",
      "age        0.96\n",
      "sibsp      0.69\n",
      "dtype: float64\n"
     ]
    }
   ],
   "source": [
    "# 2\n",
    "# Exponenciar coeficientes para obter odds ratio\n",
    "odds_ratios = pd.Series(modelo.params).apply(lambda x: round(np.exp(x), 2))\n",
    "print(\"Odds Ratios:\")\n",
    "print(odds_ratios)\n",
    "\n"
   ]
  },
  {
   "cell_type": "markdown",
   "id": "2991af6c",
   "metadata": {},
   "source": [
    "**Explicação:** Interpretação:\n",
    "\n",
    "Coeficiente positivo → aumenta a chance de sobrevivência.\n",
    "\n",
    "Coeficiente negativo → diminui a chance de sobrevivência.\n",
    "\n",
    "Ex: sex = 1 (female) com coeficiente positivo indica que mulheres têm maior chance de sobreviver."
   ]
  },
  {
   "cell_type": "markdown",
   "id": "6a49253e",
   "metadata": {},
   "source": [
    "3. Avaliar a significância estatística dos coeficientes e discutir quais variáveis possuem maior impacto na predição.\n"
   ]
  },
  {
   "cell_type": "code",
   "execution_count": null,
   "id": "14609515",
   "metadata": {},
   "outputs": [],
   "source": [
    "# 3 \n"
   ]
  },
  {
   "cell_type": "markdown",
   "id": "c56a1820",
   "metadata": {},
   "source": [
    "\n",
    "4. Calcular a probabilidade estimada de sobrevivência para um passageiro do sexo feminino, 25 anos, na 1ª classe, viajando sozinho.\n"
   ]
  },
  {
   "cell_type": "code",
   "execution_count": 6,
   "id": "af4d8e8a",
   "metadata": {},
   "outputs": [
    {
     "name": "stdout",
     "output_type": "stream",
     "text": [
      "Probabilidade estimada de sobrevivência: 95.98%\n"
     ]
    }
   ],
   "source": [
    "# 4 \n",
    "# Passageira: mulher (1), 25 anos, 1ª classe, 0 irmãos/cônjuges a bordo\n",
    "nova_passageira = pd.DataFrame({\n",
    "    'const': [1],\n",
    "    'sex': [1],\n",
    "    'pclass': [1],\n",
    "    'age': [25],\n",
    "    'sibsp': [0]\n",
    "})\n",
    "\n",
    "# Calcular probabilidade\n",
    "prob = modelo.predict(nova_passageira)[0]\n",
    "print(f\"Probabilidade estimada de sobrevivência: {prob:.2%}\")\n"
   ]
  },
  {
   "cell_type": "markdown",
   "id": "4937d71b",
   "metadata": {},
   "source": [
    "**Explicação:**"
   ]
  },
  {
   "cell_type": "markdown",
   "id": "b3f0d8e7",
   "metadata": {},
   "source": [
    "\n",
    "5. Avaliar o desempenho do modelo com métricas como acurácia, precisão, recall e matriz de confusão.\n"
   ]
  },
  {
   "cell_type": "code",
   "execution_count": 7,
   "id": "bd3fae56",
   "metadata": {},
   "outputs": [
    {
     "name": "stdout",
     "output_type": "stream",
     "text": [
      "Acurácia: 0.786046511627907\n",
      "Precisão: 0.7654320987654321\n",
      "Recall: 0.6966292134831461\n",
      "Matriz de Confusão:\n",
      " [[107  19]\n",
      " [ 27  62]]\n"
     ]
    }
   ],
   "source": [
    "#5\n",
    "from sklearn.model_selection import train_test_split\n",
    "from sklearn.linear_model import LogisticRegression\n",
    "from sklearn.metrics import accuracy_score, precision_score, recall_score, confusion_matrix\n",
    "\n",
    "# Separar dados\n",
    "X_train, X_test, y_train, y_test = train_test_split(X.drop('const', axis=1), y, test_size=0.3, random_state=42)\n",
    "\n",
    "# Modelo com sklearn\n",
    "modelo_sklearn = LogisticRegression()\n",
    "modelo_sklearn.fit(X_train, y_train)\n",
    "y_pred = modelo_sklearn.predict(X_test)\n",
    "\n",
    "# Métricas\n",
    "print(\"Acurácia:\", accuracy_score(y_test, y_pred))\n",
    "print(\"Precisão:\", precision_score(y_test, y_pred))\n",
    "print(\"Recall:\", recall_score(y_test, y_pred))\n",
    "print(\"Matriz de Confusão:\\n\", confusion_matrix(y_test, y_pred))\n"
   ]
  },
  {
   "cell_type": "markdown",
   "id": "ed9deeb4",
   "metadata": {},
   "source": [
    "**Explicação:**"
   ]
  },
  {
   "cell_type": "markdown",
   "id": "cddf2da5",
   "metadata": {},
   "source": [
    "\n",
    "6. Verificar graficamente se há padrões nos resíduos de Pearson que indiquem problemas de ajuste."
   ]
  },
  {
   "cell_type": "code",
   "execution_count": 8,
   "id": "22df751d",
   "metadata": {},
   "outputs": [
    {
     "data": {
      "image/png": "[encoded data removed]",
      "text/plain": [
       "<Figure size 640x480 with 1 Axes>"
      ]
     },
     "metadata": {},
     "output_type": "display_data"
    }
   ],
   "source": [
    "# 6\n",
    "import matplotlib.pyplot as plt\n",
    "import numpy as np\n",
    "\n",
    "# Resíduos de Pearson\n",
    "pred_probs = modelo.predict(X)\n",
    "residuos = (y - pred_probs) / np.sqrt(pred_probs * (1 - pred_probs))\n",
    "\n",
    "# Gráfico dos resíduos vs predições\n",
    "plt.scatter(pred_probs, residuos, alpha=0.5)\n",
    "plt.axhline(0, color='red', linestyle='--')\n",
    "plt.xlabel(\"Probabilidade prevista\")\n",
    "plt.ylabel(\"Resíduos de Pearson\")\n",
    "plt.title(\"Resíduos de Pearson vs. Probabilidades Previstas\")\n",
    "plt.show()\n"
   ]
  },
  {
   "cell_type": "markdown",
   "id": "54bf4e71",
   "metadata": {},
   "source": [
    "**Explicação:**"
   ]
  }
 ],
 "metadata": {
  "kernelspec": {
   "display_name": "Python 3",
   "language": "python",
   "name": "python3"
  },
  "language_info": {
   "codemirror_mode": {
    "name": "ipython",
    "version": 3
   },
   "file_extension": ".py",
   "mimetype": "text/x-python",
   "name": "python",
   "nbconvert_exporter": "python",
   "pygments_lexer": "ipython3",
   "version": "3.12.6"
  }
 },
 "nbformat": 4,
 "nbformat_minor": 5
}
