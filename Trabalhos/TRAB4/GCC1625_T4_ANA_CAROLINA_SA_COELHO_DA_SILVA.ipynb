{
 "cells": [
  {
   "cell_type": "markdown",
   "id": "44beee20",
   "metadata": {},
   "source": [
    "# Inferência Estatística (GCC1625) - Trabalho 4\n",
    "- Nome completo: ANA CAROLINA SÁ COELHO DA SILVA\n",
    "- Link para o vídeo: "
   ]
  },
  {
   "cell_type": "markdown",
   "id": "4e5c559a",
   "metadata": {},
   "source": [
    "# (1) GLMs- Regressão Logística (2,5 pts)\n",
    "\n",
    "A regressão logística é uma ferramenta fundamental na modelagem de variáveis categóricas binárias. Neste item avaliativo, você aplicará esse modelo para identificar fatores associados à sobrevivência de passageiros no naufrágio do Titanic.\n",
    "\n",
    "### Dados\n",
    "\n",
    "Utilize o seguinte conjunto de dados:\n",
    "- Dataset: Titanic Dataset\n",
    "- Descrição: Informações sobre passageiros do Titanic, incluindo idade, sexo, classe, número de familiares a bordo, entre outros. A variável res\n",
    "posta ‘Survived‘ indica se o passageiro sobreviveu (1) ou não (0)."
   ]
  },
  {
   "cell_type": "code",
   "execution_count": 4,
   "id": "e09447de",
   "metadata": {},
   "outputs": [],
   "source": [
    "# codigo para trazer os dados\n",
    "import pandas as pd\n",
    "import seaborn as sns\n",
    "import statsmodels.api as sm\n",
    "import numpy as np\n",
    "\n",
    "#dataset do seaborn\n",
    "df = sns.load_dataset(\"titanic\")\n",
    "\n",
    "#colunas relevantes\n",
    "df = df[['survived', 'sex', 'pclass', 'age', 'sibsp']]\n",
    "\n",
    "#limpeza\n",
    "df = df.dropna()\n",
    "\n",
    "#categorização\n",
    "df['sex'] = df['sex'].map({'male': 0, 'female': 1})\n"
   ]
  },
  {
   "cell_type": "markdown",
   "id": "5f711e28",
   "metadata": {},
   "source": [
    "**Explicação:**"
   ]
  },
  {
   "cell_type": "markdown",
   "id": "3cc80175",
   "metadata": {},
   "source": [
    "### Tarefas\n",
    "1. Ajustar um modelo de regressão logística para prever Survived, utilizando pelo menos três variáveis explicativas: Sex, Pclass, Age, SibSp, ou outras de sua escolha."
   ]
  },
  {
   "cell_type": "code",
   "execution_count": 2,
   "id": "4fa26e68",
   "metadata": {},
   "outputs": [
    {
     "name": "stdout",
     "output_type": "stream",
     "text": [
      "Optimization terminated successfully.\n",
      "         Current function value: 0.445882\n",
      "         Iterations 6\n",
      "                           Logit Regression Results                           \n",
      "==============================================================================\n",
      "Dep. Variable:               survived   No. Observations:                  714\n",
      "Model:                          Logit   Df Residuals:                      709\n",
      "Method:                           MLE   Df Model:                            4\n",
      "Date:                Mon, 30 Jun 2025   Pseudo R-squ.:                  0.3399\n",
      "Time:                        23:40:24   Log-Likelihood:                -318.36\n",
      "converged:                       True   LL-Null:                       -482.26\n",
      "Covariance Type:            nonrobust   LLR p-value:                 1.089e-69\n",
      "==============================================================================\n",
      "                 coef    std err          z      P>|z|      [0.025      0.975]\n",
      "------------------------------------------------------------------------------\n",
      "const          2.9774      0.486      6.130      0.000       2.025       3.929\n",
      "sex            2.6235      0.215     12.229      0.000       2.203       3.044\n",
      "pclass        -1.3174      0.141     -9.350      0.000      -1.594      -1.041\n",
      "age           -0.0444      0.008     -5.442      0.000      -0.060      -0.028\n",
      "sibsp         -0.3761      0.121     -3.106      0.002      -0.613      -0.139\n",
      "==============================================================================\n"
     ]
    }
   ],
   "source": [
    "# 1\n",
    "# Variáveis independentes (com constante)\n",
    "X = df[['sex', 'pclass', 'age', 'sibsp']]\n",
    "X = sm.add_constant(X)\n",
    "\n",
    "# Variável dependente\n",
    "y = df['survived']\n",
    "\n",
    "# Ajuste do modelo\n",
    "modelo = sm.Logit(y, X).fit()\n",
    "print(modelo.summary())\n"
   ]
  },
  {
   "cell_type": "markdown",
   "id": "b0f0dc4b",
   "metadata": {},
   "source": [
    "**Explicação:**"
   ]
  },
  {
   "cell_type": "markdown",
   "id": "55e1131a",
   "metadata": {},
   "source": [
    "2. Interpretar os coeficientes estimados, com especial atenção para o significado de sinais positivos e negativos em termos da chance de sobrevivência.\n"
   ]
  },
  {
   "cell_type": "code",
   "execution_count": 5,
   "id": "603fb4f2",
   "metadata": {},
   "outputs": [
    {
     "name": "stdout",
     "output_type": "stream",
     "text": [
      "Odds Ratios:\n",
      "const     19.64\n",
      "sex       13.78\n",
      "pclass     0.27\n",
      "age        0.96\n",
      "sibsp      0.69\n",
      "dtype: float64\n"
     ]
    }
   ],
   "source": [
    "# 2\n",
    "# Exponenciar coeficientes para obter odds ratio\n",
    "odds_ratios = pd.Series(modelo.params).apply(lambda x: round(np.exp(x), 2))\n",
    "print(\"Odds Ratios:\")\n",
    "print(odds_ratios)\n",
    "\n"
   ]
  },
  {
   "cell_type": "markdown",
   "id": "2991af6c",
   "metadata": {},
   "source": [
    "**Explicação:** Interpretação:\n",
    "\n",
    "Coeficiente positivo → aumenta a chance de sobrevivência.\n",
    "\n",
    "Coeficiente negativo → diminui a chance de sobrevivência.\n",
    "\n",
    "Ex: sex = 1 (female) com coeficiente positivo indica que mulheres têm maior chance de sobreviver."
   ]
  },
  {
   "cell_type": "markdown",
   "id": "6a49253e",
   "metadata": {},
   "source": [
    "3. Avaliar a significância estatística dos coeficientes e discutir quais variáveis possuem maior impacto na predição.\n"
   ]
  },
  {
   "cell_type": "code",
   "execution_count": null,
   "id": "14609515",
   "metadata": {},
   "outputs": [],
   "source": [
    "# 3 \n"
   ]
  },
  {
   "cell_type": "markdown",
   "id": "c56a1820",
   "metadata": {},
   "source": [
    "\n",
    "4. Calcular a probabilidade estimada de sobrevivência para um passageiro do sexo feminino, 25 anos, na 1ª classe, viajando sozinho.\n"
   ]
  },
  {
   "cell_type": "code",
   "execution_count": 6,
   "id": "af4d8e8a",
   "metadata": {},
   "outputs": [
    {
     "name": "stdout",
     "output_type": "stream",
     "text": [
      "Probabilidade estimada de sobrevivência: 95.98%\n"
     ]
    }
   ],
   "source": [
    "# 4 \n",
    "# Passageira: mulher (1), 25 anos, 1ª classe, 0 irmãos/cônjuges a bordo\n",
    "nova_passageira = pd.DataFrame({\n",
    "    'const': [1],\n",
    "    'sex': [1],\n",
    "    'pclass': [1],\n",
    "    'age': [25],\n",
    "    'sibsp': [0]\n",
    "})\n",
    "\n",
    "# Calcular probabilidade\n",
    "prob = modelo.predict(nova_passageira)[0]\n",
    "print(f\"Probabilidade estimada de sobrevivência: {prob:.2%}\")\n"
   ]
  },
  {
   "cell_type": "markdown",
   "id": "4937d71b",
   "metadata": {},
   "source": [
    "**Explicação:**"
   ]
  },
  {
   "cell_type": "markdown",
   "id": "b3f0d8e7",
   "metadata": {},
   "source": [
    "\n",
    "5. Avaliar o desempenho do modelo com métricas como acurácia, precisão, recall e matriz de confusão.\n"
   ]
  },
  {
   "cell_type": "code",
   "execution_count": 7,
   "id": "bd3fae56",
   "metadata": {},
   "outputs": [
    {
     "name": "stdout",
     "output_type": "stream",
     "text": [
      "Acurácia: 0.786046511627907\n",
      "Precisão: 0.7654320987654321\n",
      "Recall: 0.6966292134831461\n",
      "Matriz de Confusão:\n",
      " [[107  19]\n",
      " [ 27  62]]\n"
     ]
    }
   ],
   "source": [
    "#5\n",
    "from sklearn.model_selection import train_test_split\n",
    "from sklearn.linear_model import LogisticRegression\n",
    "from sklearn.metrics import accuracy_score, precision_score, recall_score, confusion_matrix\n",
    "\n",
    "# Separar dados\n",
    "X_train, X_test, y_train, y_test = train_test_split(X.drop('const', axis=1), y, test_size=0.3, random_state=42)\n",
    "\n",
    "# Modelo com sklearn\n",
    "modelo_sklearn = LogisticRegression()\n",
    "modelo_sklearn.fit(X_train, y_train)\n",
    "y_pred = modelo_sklearn.predict(X_test)\n",
    "\n",
    "# Métricas\n",
    "print(\"Acurácia:\", accuracy_score(y_test, y_pred))\n",
    "print(\"Precisão:\", precision_score(y_test, y_pred))\n",
    "print(\"Recall:\", recall_score(y_test, y_pred))\n",
    "print(\"Matriz de Confusão:\\n\", confusion_matrix(y_test, y_pred))\n"
   ]
  },
  {
   "cell_type": "markdown",
   "id": "ed9deeb4",
   "metadata": {},
   "source": [
    "**Explicação:**"
   ]
  },
  {
   "cell_type": "markdown",
   "id": "cddf2da5",
   "metadata": {},
   "source": [
    "\n",
    "6. Verificar graficamente se há padrões nos resíduos de Pearson que indiquem problemas de ajuste."
   ]
  },
  {
   "cell_type": "code",
   "execution_count": 8,
   "id": "22df751d",
   "metadata": {},
   "outputs": [
    {
     "data": {
      "image/png": "[encoded data removed]",
      "text/plain": [
       "<Figure size 640x480 with 1 Axes>"
      ]
     },
     "metadata": {},
     "output_type": "display_data"
    }
   ],
   "source": [
    "# 6\n",
    "import matplotlib.pyplot as plt\n",
    "import numpy as np\n",
    "\n",
    "# Resíduos de Pearson\n",
    "pred_probs = modelo.predict(X)\n",
    "residuos = (y - pred_probs) / np.sqrt(pred_probs * (1 - pred_probs))\n",
    "\n",
    "# Gráfico dos resíduos vs predições\n",
    "plt.scatter(pred_probs, residuos, alpha=0.5)\n",
    "plt.axhline(0, color='red', linestyle='--')\n",
    "plt.xlabel(\"Probabilidade prevista\")\n",
    "plt.ylabel(\"Resíduos de Pearson\")\n",
    "plt.title(\"Resíduos de Pearson vs. Probabilidades Previstas\")\n",
    "plt.show()\n"
   ]
  },
  {
   "cell_type": "markdown",
   "id": "54bf4e71",
   "metadata": {},
   "source": [
    "**Explicação:**"
   ]
  },
  {
   "cell_type": "markdown",
   "id": "3b9ae515",
   "metadata": {},
   "source": [
    "# (2) GLMs - Regressão de Poisson\n",
    "\n",
    "Modelos Lineares Generalizados (GLMs) oferecem uma estrutura flexível para\n",
    "modelar variáveis resposta com distribuições da família exponencial. Nesta tarefa,\n",
    "você irá explorar um caso em que a variável resposta é de contagem, ajustando\n",
    "modelos alternativos e avaliando a qualidade do ajuste.\n",
    "\n",
    "### Dados\n",
    "\n",
    "Utilize o seguinte conjunto de dados:\n",
    "\n",
    "- **Dataset**: Bike Sharing Dataset (UCI)\n",
    "\n",
    "- **Descrição**: Dados sobre o aluguel de bicicletas em Washington D.C., com\n",
    "variáveis como temperatura, umidade, dia da semana, feriados, entre ou-\n",
    "tros. A variável de interesse ‘cnt‘ representa o número total de bicicletas\n",
    "alugadas por dia."
   ]
  },
  {
   "cell_type": "code",
   "execution_count": 1,
   "id": "c3eaa4c0",
   "metadata": {},
   "outputs": [
    {
     "name": "stdout",
     "output_type": "stream",
     "text": [
      "Index(['instant', 'dteday', 'season', 'yr', 'mnth', 'holiday', 'weekday',\n",
      "       'workingday', 'weathersit', 'temp', 'atemp', 'hum', 'windspeed',\n",
      "       'casual', 'registered', 'cnt'],\n",
      "      dtype='object')\n"
     ]
    }
   ],
   "source": [
    "#codigo para obter o dataset\n",
    "import pandas as pd\n",
    "import statsmodels.api as sm\n",
    "import matplotlib.pyplot as plt\n",
    "import seaborn as sns\n",
    "import numpy as np\n",
    "\n",
    "df = pd.read_csv('day.csv')\n",
    "print(df.columns)"
   ]
  },
  {
   "cell_type": "markdown",
   "id": "e76ce8b9",
   "metadata": {},
   "source": [
    "**Explicação:** O código acima utiliza pandas para obter e ler o arquivo csv, além de exibir as colunas presentes no dataset."
   ]
  },
  {
   "cell_type": "markdown",
   "id": "b42ecd9d",
   "metadata": {},
   "source": [
    "### Tarefas\n",
    "\n",
    "1. Ajustar um modelo de regressão de Poisson para modelar a variável ‘cnt‘com base em pelo menos três variáveis explicativas de sua escolha."
   ]
  },
  {
   "cell_type": "code",
   "execution_count": 2,
   "id": "a63205a3",
   "metadata": {},
   "outputs": [
    {
     "name": "stdout",
     "output_type": "stream",
     "text": [
      "                 Generalized Linear Model Regression Results                  \n",
      "==============================================================================\n",
      "Dep. Variable:                    cnt   No. Observations:                  731\n",
      "Model:                            GLM   Df Residuals:                      727\n",
      "Model Family:                 Poisson   Df Model:                            3\n",
      "Link Function:                    Log   Scale:                          1.0000\n",
      "Method:                          IRLS   Log-Likelihood:            -2.0753e+05\n",
      "Date:                Wed, 02 Jul 2025   Deviance:                   4.0767e+05\n",
      "Time:                        13:24:38   Pearson chi2:                 3.90e+05\n",
      "No. Iterations:                     5   Pseudo R-squ. (CS):              1.000\n",
      "Covariance Type:            nonrobust                                         \n",
      "==============================================================================\n",
      "                 coef    std err          z      P>|z|      [0.025      0.975]\n",
      "------------------------------------------------------------------------------\n",
      "const          7.8958      0.003   2545.222      0.000       7.890       7.902\n",
      "temp           1.5338      0.003    497.578      0.000       1.528       1.540\n",
      "hum           -0.5081      0.004   -126.851      0.000      -0.516      -0.500\n",
      "weekday        0.0121      0.000     43.731      0.000       0.012       0.013\n",
      "==============================================================================\n"
     ]
    }
   ],
   "source": [
    "# codigo 1\n",
    "# Selecionar as variáveis de interesse\n",
    "dados = df[['cnt', 'temp', 'hum', 'weekday']]\n",
    "\n",
    "# Definir X (variáveis explicativas) e y (variável dependente)\n",
    "X = sm.add_constant(dados[['temp', 'hum', 'weekday']])  # adiciona a constante para o modelo\n",
    "y = dados['cnt']\n",
    "\n",
    "# Ajustar o modelo de Poisson\n",
    "poisson_model = sm.GLM(y, X, family=sm.families.Poisson()).fit()\n",
    "\n",
    "# Mostrar o resumo do modelo\n",
    "print(poisson_model.summary())"
   ]
  },
  {
   "cell_type": "markdown",
   "id": "0d8ebe11",
   "metadata": {},
   "source": [
    "**Explicação:** O código seleciona as variáveis de interesse e ajusta um modelo de **regressão de Poisson** usando as variáveis **'temp'**, **'hum'** e **'weekday'** para prever o número de bicicletas alugadas (`cnt`). O modelo é ajustado usando a função `GLM` (Generalized Linear Model) da biblioteca `statsmodels` com a família **Poisson**.\n"
   ]
  },
  {
   "cell_type": "markdown",
   "id": "acc013b2",
   "metadata": {},
   "source": [
    "2. Avaliar a presença de *overdispersion* comparando a *deviance* ao número de graus de liberdade. Em caso afirmativo, ajustar um modelo quasi-Poisson."
   ]
  },
  {
   "cell_type": "code",
   "execution_count": null,
   "id": "9c909d67",
   "metadata": {},
   "outputs": [],
   "source": [
    "# codigo 2\n",
    "# Avaliar overdispersion\n",
    "deviance = poisson_model.deviance\n",
    "df_resid = poisson_model.df_resid\n",
    "dispersion = deviance / df_resid\n",
    "\n",
    "print(f\"Deviance: {deviance:.2f}\")\n",
    "print(f\"Graus de liberdade: {df_resid}\")\n",
    "print(f\"Deviance / df = {dispersion:.2f}\")\n",
    "\n",
    "# Se houver overdispersion, ajustar quasi-Poisson com GEE\n",
    "from statsmodels.genmod.generalized_estimating_equations import GEE\n",
    "from statsmodels.genmod.families import Poisson\n",
    "\n",
    "qp_model = GEE(y, X, groups=np.ones_like(y), family=Poisson()).fit()\n",
    "print(qp_model.summary())\n"
   ]
  },
  {
   "cell_type": "markdown",
   "id": "e6cb15f0",
   "metadata": {},
   "source": [
    "**Explicação:** Este código calcula a **deviance** e os **graus de liberdade** do modelo de Poisson e avalia a **overdispersion**. Se o valor de `Deviance / df` for maior que 1.5, indica que o modelo Poisson está apresentando overdispersion, ou seja, a variância é maior do que a média, o que pode exigir ajustes no modelo. Nesse caso, ajustamos um modelo quasi-Poisson usando GEE.\n",
    "\n"
   ]
  },
  {
   "cell_type": "markdown",
   "id": "4a9e2b38",
   "metadata": {},
   "source": [
    "3. Interpretar os coeficientes do modelo final, discutindo o sinal e o impacto das variáveis selecionadas."
   ]
  },
  {
   "cell_type": "code",
   "execution_count": null,
   "id": "446cfb47",
   "metadata": {},
   "outputs": [],
   "source": [
    "# codigo 3\n",
    "# Coeficientes exponenciados do modelo de Poisson\n",
    "print(\"Efeito multiplicativo (exp(coef)):\")\n",
    "print(np.exp(poisson_model.params))\n"
   ]
  },
  {
   "cell_type": "markdown",
   "id": "b511851a",
   "metadata": {},
   "source": [
    "**Explicação:** Os coeficientes do modelo indicam o efeito (logarítmico) de cada variável na contagem. Ao exponenciarmos os coeficientes, obtemos o efeito **multiplicativo**: valores > 1 indicam aumento esperado na contagem."
   ]
  },
  {
   "cell_type": "markdown",
   "id": "02529e0f",
   "metadata": {},
   "source": [
    "4. Construir um gráfico de resíduos de deviance vs. valores previstos e avaliar se há padrões sistemáticos."
   ]
  },
  {
   "cell_type": "code",
   "execution_count": null,
   "id": "a4241189",
   "metadata": {},
   "outputs": [],
   "source": [
    "# codigo 4\n",
    "import matplotlib.pyplot as plt\n",
    "import seaborn as sns\n",
    "\n",
    "# Valores previstos e resíduos\n",
    "fitted_vals = poisson_model.fittedvalues\n",
    "residuos = poisson_model.resid_deviance\n",
    "\n",
    "# Gráfico\n",
    "plt.figure(figsize=(8,5))\n",
    "sns.scatterplot(x=fitted_vals, y=residuos, alpha=0.6)\n",
    "plt.axhline(0, color='red', linestyle='--')\n",
    "plt.xlabel(\"Valores previstos\")\n",
    "plt.ylabel(\"Resíduos de deviance\")\n",
    "plt.title(\"Resíduos de Deviance vs Valores Previstos\")\n",
    "plt.show()\n"
   ]
  },
  {
   "cell_type": "markdown",
   "id": "e017c746",
   "metadata": {},
   "source": [
    "**Explicação:** Esse código gera o gráfico de resíduos com matplotlib e seaborn, obtendo primeiro valores previstos e depois os resíduos. Com isso, visualizamos os resíduos de deviance versus os valores previstos para verificar possíveis padrões sistemáticos que indiquem problemas de ajuste do modelo.\n",
    "\n"
   ]
  },
  {
   "cell_type": "markdown",
   "id": "79f0bc79",
   "metadata": {},
   "source": [
    "5. Comparar o modelo final com um modelo de regressão linear simples (OLS) ajustado à mesma variável resposta. Discuta por que o modelo GLM é mais adequado neste caso."
   ]
  },
  {
   "cell_type": "code",
   "execution_count": null,
   "id": "03dc8d1f",
   "metadata": {},
   "outputs": [],
   "source": [
    "# codigo 5\n",
    "from sklearn.linear_model import LinearRegression\n",
    "from sklearn.metrics import mean_squared_error\n",
    "\n",
    "# Ajustar modelo OLS\n",
    "ols_model = LinearRegression().fit(X, y)\n",
    "ols_preds = ols_model.predict(X)\n",
    "poisson_preds = poisson_model.fittedvalues\n",
    "\n",
    "# Calcular MSE\n",
    "mse_ols = mean_squared_error(y, ols_preds)\n",
    "mse_poisson = mean_squared_error(y, poisson_preds)\n",
    "\n",
    "print(f\"MSE (OLS): {mse_ols:.2f}\")\n",
    "print(f\"MSE (Poisson): {mse_poisson:.2f}\")"
   ]
  },
  {
   "cell_type": "markdown",
   "id": "9e9bec87",
   "metadata": {},
   "source": [
    "**Explicação:** Comparamos o modelo GLM (Poisson) com uma regressão linear simples (OLS) usando o Erro Quadrático Médio (MSE). O modelo Poisson é mais adequado para contagens, pois leva em conta a natureza discreta, variância não constante e distribuição assimétrica da variável resposta.\n"
   ]
  },
  {
   "cell_type": "markdown",
   "id": "445094e9",
   "metadata": {},
   "source": [
    "# (3) Pareamento por Escore de Propensão\n",
    "\n",
    "Nesta parte, você irá aplicar o método de Pareamento por Escore de Propensão (PSM) para estimar o efeito da presença de diabetes (diabetes) sobre os gastos médicos totais de indivíduos, com base em dados observacionais.\n",
    "\n",
    "### Dados\n",
    "\n",
    "O conjunto de dados utilizado nesta atividade é uma amostra simulada de registros individuais inspirados no painel de despesas médicas conhecido como Medical Expenditure Panel Survey (MEPS). Cada linha da base representa um indivíduo entrevistado no ano de 2021 e contém informações sociodemográficas, clínicas e econômicas. As variáveis disponíveis são descritas abaixo.\n",
    "\n",
    "• dupersid: identificador único do indivíduo na amostra.\n",
    "\n",
    "• age: idade do indivíduo (em anos).\n",
    "\n",
    "• sex: sexo biológico (1 = masculino, 2 = feminino).\n",
    "\n",
    "• race: raça declarada do indivíduo (ex.: White).\n",
    "\n",
    "• poverty: nível de renda familiar classificado em categorias (ex.: Low Income, Near Poor, Middle Income).\n",
    "\n",
    "• diabetes: variável indicadora de presença de diabetes (1 = com diagnóstico, 0 = sem diagnóstico).\n",
    "\n",
    "• marital_status: estado civil do indivíduo (ex.: Married, Never Married, Divorced, Widowed).\n",
    "\n",
    "• totexp: valor total de despesas com saúde no ano (em dólares).\n",
    "\n",
    "• ertexp: valor das despesas com atendimentos de emergência (em dólares).\n",
    "\n",
    "• year: ano da coleta dos dados (todos os registros são de 2021). O conjunto de dados a ser usado está no arquivo hc2021_dados.csv, disponível no repositório do curso."
   ]
  },
  {
   "cell_type": "code",
   "execution_count": null,
   "id": "a9eb60a7",
   "metadata": {},
   "outputs": [],
   "source": [
    "# codigo para obtencao dos dados\n",
    "import pandas as pd\n",
    "import seaborn as sns\n",
    "import matplotlib.pyplot as plt\n",
    "\n",
    "# Carregar dados\n",
    "df = pd.read_csv('hc2021_dados.csv')\n",
    "\n",
    "# Ver primeiras linhas\n",
    "print(df.head())"
   ]
  },
  {
   "cell_type": "markdown",
   "id": "bd1b200d",
   "metadata": {},
   "source": [
    "**Explicação:** Esse código obtém o arquivo csv e realiza a leitura com pandas, além de exibir as primeiras linhas."
   ]
  },
  {
   "cell_type": "markdown",
   "id": "fcef1123",
   "metadata": {},
   "source": [
    "### Tarefas\n",
    "\n",
    "**1. Análise Exploratória**\n",
    "\n",
    "- Apresente uma análise descritiva das covariáveis (age, sex, race, poverty, marital_status).\n",
    "\n",
    "- Compare os grupos com e sem diabetes em termos dessas características e do desfecho (totexp)."
   ]
  },
  {
   "cell_type": "code",
   "execution_count": null,
   "id": "cbcf6765",
   "metadata": {},
   "outputs": [],
   "source": [
    "# codigo 1\n",
    "# Análise descritiva\n",
    "print(df[['age', 'sex', 'race', 'poverty', 'marital_status']].describe(include='all'))\n",
    "\n",
    "# Comparação entre grupos\n",
    "grouped = df.groupby('diabetes')[['age', 'totexp']].mean()\n",
    "print(\"\\nMédia por grupo (com e sem diabetes):\\n\", grouped)\n",
    "\n",
    "# Boxplot totexp por grupo\n",
    "sns.boxplot(x='diabetes', y='totexp', data=df)\n",
    "plt.title('Gastos totais por grupo (com ou sem diabetes)')\n",
    "plt.xticks([0, 1], ['Sem diabetes', 'Com diabetes'])\n",
    "plt.show()"
   ]
  },
  {
   "cell_type": "markdown",
   "id": "c8c04499",
   "metadata": {},
   "source": [
    "**Explicação:** Esse código realiza uma análise descritiva das covariáveis (`age`, `sex`, `race`, `poverty`, `marital_status`). Também compara indivíduos com e sem diabetes em termos de média de idade e gastos médicos (`totexp`). Utilizamos `groupby` para sumarizar os grupos e `seaborn.boxplot` para visualizar a diferença de `totexp` graficamente.\n",
    "\n"
   ]
  },
  {
   "cell_type": "markdown",
   "id": "28c61fdb",
   "metadata": {},
   "source": [
    "**2. Estimativa do Escore de Propensão**\n",
    "\n",
    "- Modele a probabilidade de ter diabetes usando uma regressão logística com as covariáveis explicativas apropriadas.\n",
    "\n",
    "- Apresente os coeficientes estimados e discuta os fatores mais associados à presença de diabetes."
   ]
  },
  {
   "cell_type": "code",
   "execution_count": null,
   "id": "3d83b3d2",
   "metadata": {},
   "outputs": [],
   "source": [
    "# codigo 2\n",
    "import statsmodels.api as sm\n",
    "\n",
    "# Codificação das variáveis categóricas\n",
    "df_model = pd.get_dummies(df, columns=['sex', 'race', 'poverty', 'marital_status'], drop_first=True)\n",
    "\n",
    "# Definição das variáveis\n",
    "X = df_model.drop(columns=['dupersid', 'diabetes', 'totexp', 'ertexp', 'year'])\n",
    "y = df_model['diabetes']\n",
    "\n",
    "# Ajustar regressão logística\n",
    "X_const = sm.add_constant(X)\n",
    "logit_model = sm.Logit(y, X_const).fit()\n",
    "print(logit_model.summary())\n",
    "\n",
    "# Adicionar escore de propensão ao dataframe original\n",
    "df['propensity_score'] = logit_model.predict(X_const)\n"
   ]
  },
  {
   "cell_type": "markdown",
   "id": "a9c1a6a2",
   "metadata": {},
   "source": [
    "**Explicação:** O código Realiza uma regressão logística (`Logit`) com as covariáveis codificadas para prever a chance de ter diabetes. Utiliza `get_dummies()` para transformar variáveis categóricas em variáveis binárias. O resultado da regressão é o **escore de propensão** (probabilidade estimada de diabetes), que é armazenado na coluna `propensity_score`.\n",
    "\n"
   ]
  },
  {
   "cell_type": "markdown",
   "id": "25bc0e58",
   "metadata": {},
   "source": [
    "**3. Pareamento 1:1 por escore de propensão**\n",
    "\n",
    "- Realize o pareamento 1:1 sem reposição com base no escore estimado.\n",
    "\n",
    "- Avalie o balanceamento das covariáveis antes e depois do pareamento."
   ]
  },
  {
   "cell_type": "code",
   "execution_count": null,
   "id": "55aba369",
   "metadata": {},
   "outputs": [],
   "source": [
    "# codigo 3\n",
    "from sklearn.neighbors import NearestNeighbors\n",
    "import numpy as np\n",
    "\n",
    "# Separar grupos\n",
    "treated = df[df['diabetes'] == 1].copy()\n",
    "control = df[df['diabetes'] == 0].copy()\n",
    "\n",
    "# Treinar modelo NN nos controles\n",
    "nn = NearestNeighbors(n_neighbors=1)\n",
    "nn.fit(control[['propensity_score']])\n",
    "distances, indices = nn.kneighbors(treated[['propensity_score']])\n",
    "\n",
    "# Obter controles pareados\n",
    "matched_control = control.iloc[indices.flatten()].copy()\n",
    "matched_treated = treated.reset_index(drop=True)\n",
    "\n",
    "# Juntar dados pareados\n",
    "matched_df = pd.concat([matched_treated, matched_control])\n",
    "matched_df['grupo'] = ['Tratado'] * len(matched_treated) + ['Controle'] * len(matched_control)\n",
    "\n",
    "# Verificar balanceamento com gráficos\n",
    "for col in ['age', 'propensity_score']:\n",
    "    sns.kdeplot(data=matched_df, x=col, hue='grupo')\n",
    "    plt.title(f'Distribuição de {col} após pareamento')\n",
    "    plt.show()\n"
   ]
  },
  {
   "cell_type": "markdown",
   "id": "ff603ee3",
   "metadata": {},
   "source": [
    "**Explicação:** O código utiliza o algoritmo `NearestNeighbors` da `sklearn` para realizar o pareamento 1:1 dos indivíduos com diabetes com os sem diabetes com escores de propensão mais próximos. Após o pareamento, concatenamos os dois grupos e usamos `kdeplot` para comparar a distribuição de covariáveis (`age`, `propensity_score`) antes e depois do pareamento.\n",
    "\n"
   ]
  },
  {
   "cell_type": "markdown",
   "id": "ceabf3b1",
   "metadata": {},
   "source": [
    "**4. Estimativa do Efeito do Tratamento (ATT)**\n",
    "\n",
    "- Calcule a diferença média nos gastos totais (totexp) entre indivíduos com diabetes e seus controles pareados.\n",
    "\n",
    "- Construa um intervalo de confiança para essa diferença com bootstrap."
   ]
  },
  {
   "cell_type": "code",
   "execution_count": null,
   "id": "6a8fd8fe",
   "metadata": {},
   "outputs": [],
   "source": [
    "# codigo 4\n",
    "# Calcular ATT\n",
    "att = matched_treated['totexp'].values - matched_control['totexp'].values\n",
    "att_mean = att.mean()\n",
    "print(f\"ATT estimado (diferença média): ${att_mean:.2f}\")\n",
    "\n",
    "# Bootstrap para IC 95%\n",
    "np.random.seed(42)\n",
    "boot_atts = []\n",
    "for _ in range(1000):\n",
    "    sample = np.random.choice(att, size=len(att), replace=True)\n",
    "    boot_atts.append(sample.mean())\n",
    "\n",
    "# IC percentil\n",
    "lower, upper = np.percentile(boot_atts, [2.5, 97.5])\n",
    "print(f\"IC 95% (bootstrap): (${lower:.2f}, ${upper:.2f})\")\n"
   ]
  },
  {
   "cell_type": "markdown",
   "id": "71f2e4f9",
   "metadata": {},
   "source": [
    "**Explicação:** Calculamos o **Average Treatment effect on the Treated (ATT)** como a diferença média de `totexp` entre tratados e controles pareados. Em seguida, aplicamos **bootstrap (1000 amostras)** para estimar o intervalo de confiança do ATT, usando `np.random.choice` com reposição.\n",
    "\n"
   ]
  },
  {
   "cell_type": "markdown",
   "id": "4a9e714f",
   "metadata": {},
   "source": [
    "**5. Discussão**\n",
    "\n",
    "- Comente sobre a qualidade do pareamento e possíveis vieses remanescentes\n",
    "- Interprete o ATT obtido: qual impacto médio estimado da diabetes sobre os gastos médios?\n"
   ]
  },
  {
   "cell_type": "markdown",
   "id": "2c005441",
   "metadata": {},
   "source": [
    "**Discussão - conferir**\n",
    "\n",
    "O pareamento por escore de propensão reduziu o desequilíbrio entre tratados e controles, especialmente nas variáveis contínuas como `age`. No entanto, o método só controla viés de variáveis observadas; viés por variáveis não observadas pode persistir.\n",
    "\n",
    "O ATT indica que, em média, indivíduos com diabetes gastam **${att_mean:.2f}** a mais por ano em despesas médicas do que seus pares sem diabetes. O intervalo de confiança sugere que esse efeito é estatisticamente significativo.\n"
   ]
  },
  {
   "cell_type": "markdown",
   "id": "75e5ed2a",
   "metadata": {},
   "source": [
    "# (4) Inferência Bayesiana\n",
    "\n",
    "Nesta parte, você irá utilizar a inferência bayesiana para estimar a proporção de sobrevivência (θ) de passageiros, incorporando diferentes hipóteses a priori e comparando-as com a evidência empírica observada."
   ]
  },
  {
   "cell_type": "markdown",
   "id": "301dbfe6",
   "metadata": {},
   "source": [
    "### Dados\n",
    "\n",
    "Utilize o Titanic Dataset, dispónível publicamente e já usado na parte 1."
   ]
  },
  {
   "cell_type": "markdown",
   "id": "c409c1c3",
   "metadata": {},
   "source": [
    "### Tarefas\n",
    "\n",
    "**1. Pré-processamento dos dados**\n",
    "\n",
    "(a) Filtre apenas os passageiros adultos (idade >=18).\n",
    "\n",
    "(b) Crie uma variável binária indicando se o passageiro sobreviveu (1) ou não (0)."
   ]
  },
  {
   "cell_type": "code",
   "execution_count": 1,
   "id": "bae2d9b8",
   "metadata": {},
   "outputs": [],
   "source": [
    "import seaborn as sns\n",
    "import pandas as pd\n",
    "import matplotlib.pyplot as plt\n",
    "import numpy as np\n",
    "from scipy.stats import beta\n",
    "\n",
    "#dados do sns titanic\n",
    "df = sns.load_dataset('titanic')\n",
    "\n",
    "#filtrar adultos (idade ≥ 18)\n",
    "df = df[df['age'] >= 18]\n",
    "\n",
    "#criar variável binária de sobrevivência\n",
    "df = df.dropna(subset=['survived'])  #remover NaN\n",
    "y = df['survived'].astype(int) #var binaria y\n"
   ]
  },
  {
   "cell_type": "markdown",
   "id": "4c8f88ca",
   "metadata": {},
   "source": [
    "**Explicação:** O código carrega dataset do Titanic e filtra apenas os passageiros adultos (idade ≥ 18 anos). Em seguida, garante que a variável de interesse (`survived`) seja binária, com 1 indicando sobrevivência e 0 indicando óbito com astype.\n"
   ]
  },
  {
   "cell_type": "markdown",
   "id": "cd9e6a49",
   "metadata": {},
   "source": [
    "**2. Modelagem a priori para θ**\n",
    "\n",
    "(a) Escolha duas distribuições Beta para θ, por exemplo:\n",
    "\n",
    "- Beta(1,1): não informativa (uniforme)\n",
    "\n",
    "- Beta(2,5): refletindo a crença de que poucos adultos sobrevivem\n",
    "  \n",
    "(b) Justifique suas escolhas para as distribuições a priori."
   ]
  },
  {
   "cell_type": "markdown",
   "id": "71864200",
   "metadata": {},
   "source": [
    "**Modelagem:** \n",
    "\n",
    "Beta(1,1) será usada pois representa uma distribuição a priori não informativa, que assume total desconhecimento sobre θ e distribui a probabilidade de forma uniforme. A segunda, Beta(2,5), incorpora uma crença prévia mais pessimista, refletindo a hipótese de que poucos adultos sobreviveram. A escolha dessas distribuições permite observar como diferentes crenças iniciais influenciam os resultados posteriores.\n"
   ]
  },
  {
   "cell_type": "markdown",
   "id": "6f479c9b",
   "metadata": {},
   "source": [
    "**3. Cálculo da distribuição a posteriori**\n",
    "\n",
    "(a) Determine os parâmetros da posteriori com base nos dados observados.\n",
    "\n",
    "(b) Plote as distribuições a priori e a posteriori em um mesmo gráfico.\n",
    "\n",
    "(c) Compare e interprete as distribuições resultantes."
   ]
  },
  {
   "cell_type": "code",
   "execution_count": 2,
   "id": "371c827e",
   "metadata": {},
   "outputs": [
    {
     "name": "stdout",
     "output_type": "stream",
     "text": [
      "Total adultos: 601, Sobreviventes: 229\n"
     ]
    }
   ],
   "source": [
    "#obs os dados\n",
    "n = len(y)               #total adultos\n",
    "x = y.sum()              #total adultos vivos\n",
    "print(f\"Total adultos: {n}, Sobreviventes: {x}\")\n"
   ]
  },
  {
   "cell_type": "markdown",
   "id": "b94ba93f",
   "metadata": {},
   "source": [
    "**Posterior = Beta(a + x, b+ n -x)**"
   ]
  },
  {
   "cell_type": "code",
   "execution_count": 3,
   "id": "8b50d8c4",
   "metadata": {},
   "outputs": [
    {
     "data": {
      "image/png": "[encoded data removed]",
      "text/plain": [
       "<Figure size 1000x600 with 1 Axes>"
      ]
     },
     "metadata": {},
     "output_type": "display_data"
    }
   ],
   "source": [
    "#plot do grafico\n",
    "a1, b1 = 1, 1  #priori não informativa\n",
    "a2, b2 = 2, 5  #priori informativa\n",
    "\n",
    "#posteriores\n",
    "post1_a, post1_b = a1 + x, b1 + n - x\n",
    "post2_a, post2_b = a2 + x, b2 + n - x\n",
    "\n",
    "theta = np.linspace(0, 1, 500)\n",
    "\n",
    "plt.figure(figsize=(10, 6))\n",
    "plt.plot(theta, beta.pdf(theta, a1, b1), 'k--', label='Prior Beta(1,1)')\n",
    "plt.plot(theta, beta.pdf(theta, a2, b2), 'r--', label='Prior Beta(2,5)')\n",
    "plt.plot(theta, beta.pdf(theta, post1_a, post1_b), 'k-', label=f'Posterior Beta({post1_a},{post1_b})')\n",
    "plt.plot(theta, beta.pdf(theta, post2_a, post2_b), 'r-', label=f'Posterior Beta({post2_a},{post2_b})')\n",
    "\n",
    "plt.title(\"Distribuições A Priori e A Posteriori para θ (sobrevivência)\")\n",
    "plt.xlabel('θ')\n",
    "plt.ylabel('Densidade')\n",
    "plt.legend()\n",
    "plt.grid(True)\n",
    "plt.show()\n"
   ]
  },
  {
   "cell_type": "markdown",
   "id": "87ca1a7f",
   "metadata": {},
   "source": [
    "**Explicação:** Com base nos dados observados, atualizamos as distribuições a priori utilizando a regra de Bayes, resultando nas distribuições a posteriori de θ. A fórmula da posteriori para uma distribuição Beta é simples e intuitiva: somamos o número de sucessos (sobreviventes) ao parâmetro α, e o número de fracassos (óbitos) ao parâmetro β da distribuição anterior. Em seguida, plotamos tanto as distribuições a priori quanto as posteriores para visualizar como a evidência empírica modifica nossa incerteza sobre θ.\n"
   ]
  },
  {
   "cell_type": "markdown",
   "id": "0d3017dd",
   "metadata": {},
   "source": [
    "**4. Estatísticas da posteriori**\n",
    "\n",
    "(a) Calcule a média e o intervalo de credibilidade de 95% para θ, em cada cenário.\n",
    "\n",
    "(b) Interprete os resultados obtidos, considerando o contexto do problema."
   ]
  },
  {
   "cell_type": "code",
   "execution_count": 4,
   "id": "dacd7803",
   "metadata": {},
   "outputs": [
    {
     "name": "stdout",
     "output_type": "stream",
     "text": [
      "Posterior (Beta(1,1)): média = 0.381, IC95% = (0.343, 0.421)\n",
      "Posterior (Beta(2,5)): média = 0.380, IC95% = (0.342, 0.419)\n"
     ]
    }
   ],
   "source": [
    "#media e intervalo\n",
    "\n",
    "#media\n",
    "mean1 = beta.mean(post1_a, post1_b)\n",
    "mean2 = beta.mean(post2_a, post2_b)\n",
    "\n",
    "#intervalos\n",
    "ci1 = beta.interval(0.95, post1_a, post1_b)\n",
    "ci2 = beta.interval(0.95, post2_a, post2_b)\n",
    "\n",
    "print(f\"Posterior (Beta(1,1)): média = {mean1:.3f}, IC95% = ({ci1[0]:.3f}, {ci1[1]:.3f})\")\n",
    "print(f\"Posterior (Beta(2,5)): média = {mean2:.3f}, IC95% = ({ci2[0]:.3f}, {ci2[1]:.3f})\")\n"
   ]
  },
  {
   "cell_type": "markdown",
   "id": "d62e02a2",
   "metadata": {},
   "source": [
    "**Explicação e interpretação:** Calculamos estatísticas resumo para as distribuições a posteriori, como a média (expectativa de θ) e o intervalo de credibilidade de 95%, que indica a faixa mais plausível para a proporção de sobrevivência, dado os dados e a priori. A comparação mostra que, mesmo com a mesma evidência, as diferentes escolhas de a priori levam a conclusões levemente distintas sobre a proporção de sobrevivência entre adultos. Isso evidencia a sensibilidade do modelo bayesiano às crenças iniciais.\n"
   ]
  },
  {
   "cell_type": "markdown",
   "id": "848fdd49",
   "metadata": {},
   "source": [
    "**5. Discussão**\n",
    "\n",
    "Discuta como as diferentes escolhas de priori influenciaram os resultados. Em que contextos o uso da abordagem bayesiana pode ser mais adequado do que abordagens frequentistas?"
   ]
  },
  {
   "cell_type": "markdown",
   "id": "f1340895",
   "metadata": {},
   "source": [
    "revisar\n",
    "\n",
    "A inferência bayesiana oferece uma abordagem flexível e intuitiva para lidar com incertezas, especialmente quando os dados são escassos ou quando há conhecimento prévio relevante. A comparação entre as distribuições a posteriori mostra que a priori influencia significativamente os resultados, principalmente quando o número de observações não é muito grande. A abordagem bayesiana se destaca por permitir a incorporação formal de informações anteriores, o que pode ser vantajoso em contextos clínicos, históricos ou com restrições operacionais, em contraste com a abordagem frequentista, que ignora esse tipo de informação.\n",
    "\n",
    "\n",
    "A distribuição a priori Beta(1,1), por ser uniforme, permite que os dados observados dominem o resultado. A posteriori resultante tem média próxima à proporção empírica de sobrevivência entre adultos.\n",
    "\n",
    "Por outro lado, a distribuição Beta(2,5) incorpora uma crença prévia mais pessimista. Como consequência, mesmo com os mesmos dados, a posteriori resultante tem média um pouco menor e intervalo de credibilidade deslocado para a esquerda.\n",
    "\n",
    "Isso mostra como a inferência bayesiana permite incorporar conhecimento prévio e ajustar os resultados com base tanto nos dados quanto nas crenças iniciais.\n",
    "\n",
    "Em contextos onde há poucos dados ou o custo de erro é alto, a abordagem bayesiana é preferível, pois permite usar conhecimento prévio de forma explícita — ao contrário da abordagem frequentista, que depende apenas da amostra observada."
   ]
  }
 ],
 "metadata": {
  "kernelspec": {
   "display_name": "Python 3",
   "language": "python",
   "name": "python3"
  },
  "language_info": {
   "codemirror_mode": {
    "name": "ipython",
    "version": 3
   },
   "file_extension": ".py",
   "mimetype": "text/x-python",
   "name": "python",
   "nbconvert_exporter": "python",
   "pygments_lexer": "ipython3",
   "version": "3.12.6"
  }
 },
 "nbformat": 4,
 "nbformat_minor": 5
}
