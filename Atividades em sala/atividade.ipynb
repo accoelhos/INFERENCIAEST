{
 "cells": [
  {
   "cell_type": "markdown",
   "id": "9eab8832",
   "metadata": {},
   "source": [
    "#### Exercício 1 – Efeitos de Diferentes Métodos de Estudo\n",
    "Contexto: Uma professora quer investigar se diferentes métodos de estudo afetam o desempenho dos alunos em uma prova final. Ela divide os alunos aleatoriamente em três grupos:\n",
    "\n",
    "- Grupo 1: Estudo individual em casa\n",
    "- Grupo 2: Estudo em grupo na biblioteca\n",
    "- Grupo 3: Aulas de revisão com o professor\n",
    "Após a prova, ela coleta as notas dos alunos de cada grupo.\n",
    "\n",
    "Pergunta de pesquisa:\n",
    "\n",
    "Existe diferença estatisticamente significativa entre as médias das notas dos alunos que utilizaram os diferentes métodos de estudo?\n",
    "\n",
    "Aplique ANOVA de uma via e, se necessário, o teste de Tukey para identificar quais métodos diferem entre si."
   ]
  },
  {
   "cell_type": "code",
   "execution_count": 1,
   "id": "9c51c8b6",
   "metadata": {},
   "outputs": [
    {
     "name": "stdout",
     "output_type": "stream",
     "text": [
      "Resultado da ANOVA:\n",
      "F = 13.0362\n",
      "valor-p = 0.0000\n",
      "Há diferença significativa. Devemos aplicar o teste de Tukey.\n",
      "Resumo do Teste de Tukey:\n",
      "       group1      group2  meandiff   p-adj   lower   upper  reject\n",
      "0       Grupo  Individual   -0.7826  0.0144 -1.4344 -0.1308    True\n",
      "1       Grupo     Revisao    0.6096  0.0718 -0.0422  1.2614   False\n",
      "2  Individual     Revisao    1.3922  0.0000  0.7404  2.0440    True\n"
     ]
    }
   ],
   "source": [
    "import pandas as pd\n",
    "from scipy.stats import f_oneway\n",
    "from statsmodels.stats.multicomp import pairwise_tukeyhsd\n",
    "\n",
    "# Carregando os dados\n",
    "df_metodo = pd.read_csv('MetodoEstudo.csv')\n",
    "\n",
    "# Separando os grupos\n",
    "grupo1 = df_metodo['Nota'][df_metodo['Metodo'] == 'Individual']\n",
    "grupo2 = df_metodo['Nota'][df_metodo['Metodo'] == 'Grupo']\n",
    "grupo3 = df_metodo['Nota'][df_metodo['Metodo'] == 'Revisao']\n",
    "\n",
    "# Aplicando ANOVA one-way\n",
    "f_stat, p_value = f_oneway(grupo1, grupo2, grupo3)\n",
    "print(\"Resultado da ANOVA:\")\n",
    "print(f\"F = {f_stat:.4f}\")\n",
    "print(f\"valor-p = {p_value:.4f}\")\n",
    "if p_value > 0.05:\n",
    "    print(\"Não há diferença significativa.\")\n",
    "else:\n",
    "    print(\"Há diferença significativa. Devemos aplicar o teste de Tukey.\")\n",
    "\n",
    "# Teste de Tukey\n",
    "tukey = pairwise_tukeyhsd(endog=df_metodo[\"Nota\"], groups=df_metodo[\"Metodo\"], alpha=0.05)\n",
    "\n",
    "# Convertendo para DataFrame para melhor visualização\n",
    "tukey_df = pd.DataFrame(data=tukey.summary().data[1:], columns=tukey.summary().data[0])\n",
    "print(\"Resumo do Teste de Tukey:\")\n",
    "print(tukey_df)\n"
   ]
  }
 ],
 "metadata": {
  "kernelspec": {
   "display_name": "Python 3",
   "language": "python",
   "name": "python3"
  },
  "language_info": {
   "codemirror_mode": {
    "name": "ipython",
    "version": 3
   },
   "file_extension": ".py",
   "mimetype": "text/x-python",
   "name": "python",
   "nbconvert_exporter": "python",
   "pygments_lexer": "ipython3",
   "version": "3.12.6"
  }
 },
 "nbformat": 4,
 "nbformat_minor": 5
}
