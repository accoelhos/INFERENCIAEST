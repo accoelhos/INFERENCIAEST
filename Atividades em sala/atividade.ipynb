{
 "cells": [
  {
   "cell_type": "markdown",
   "id": "9eab8832",
   "metadata": {},
   "source": [
    "#### Exercício 1 – Efeitos de Diferentes Métodos de Estudo\n",
    "Contexto: Uma professora quer investigar se diferentes métodos de estudo afetam o desempenho dos alunos em uma prova final. Ela divide os alunos aleatoriamente em três grupos:\n",
    "\n",
    "- Grupo 1: Estudo individual em casa\n",
    "- Grupo 2: Estudo em grupo na biblioteca\n",
    "- Grupo 3: Aulas de revisão com o professor\n",
    "Após a prova, ela coleta as notas dos alunos de cada grupo.\n",
    "\n",
    "Pergunta de pesquisa:\n",
    "\n",
    "Existe diferença estatisticamente significativa entre as médias das notas dos alunos que utilizaram os diferentes métodos de estudo?\n",
    "\n",
    "Aplique ANOVA de uma via e, se necessário, o teste de Tukey para identificar quais métodos diferem entre si."
   ]
  },
  {
   "cell_type": "code",
   "execution_count": null,
   "id": "9c51c8b6",
   "metadata": {},
   "outputs": [],
   "source": [
    "import pandas as pd\n",
    "from scipy.stats import f_oneway\n",
    "\n",
    "df_metodo = pd.read_csv(\"MetodoEstudo.csv\")\n",
    "grupo1 = df_metodo['Individual']\n",
    "grupo2 = df_metodo['Grupo']\n",
    "grupo3 = df_metodo['Revisao']\n",
    "\n",
    "#aplicando ANOVA oneway\n",
    "\n",
    "f_stat, p_value = f_oneway(grupo1, grupo2, grupo3)\n",
    "print(\"Resultado da ANOVA:\")\n",
    "print(f\"F = {f_stat:.4f}\")\n",
    "print(f\"valor-p = {p_value:.4f}\")\n",
    "\n"
   ]
  }
 ],
 "metadata": {
  "language_info": {
   "name": "python"
  }
 },
 "nbformat": 4,
 "nbformat_minor": 5
}
